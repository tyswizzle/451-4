{
 "cells": [
  {
   "cell_type": "code",
   "execution_count": 205,
   "metadata": {},
   "outputs": [
    {
     "data": {
      "text/plain": [
       "<module 'matplotlib.pyplot' from 'c:\\\\python\\\\workspace\\\\pycharm\\\\venv\\\\lib\\\\site-packages\\\\matplotlib\\\\pyplot.py'>"
      ]
     },
     "execution_count": 205,
     "metadata": {},
     "output_type": "execute_result"
    },
    {
     "data": {
      "image/png": "[encoded data removed]",
      "text/plain": [
       "<Figure size 432x288 with 1 Axes>"
      ]
     },
     "metadata": {
      "needs_background": "light"
     },
     "output_type": "display_data"
    }
   ],
   "source": [
    "import random\n",
    "import numpy as np\n",
    "import math \n",
    "\n",
    "num_city = 100\n",
    "num_air = 3\n",
    "num_center = 5\n",
    "sigma = 0.1\n",
    "cities = set()\n",
    "airports = []\n",
    "\n",
    "for i in range(num_center):\n",
    "    x = random.random()\n",
    "    y = random.random()\n",
    "    xc = np.random.normal(x, sigma, num_city//num_center)\n",
    "    yc = np.random.normal(y, sigma, num_city//num_center)\n",
    "    cities = cities.union(zip(xc, yc))\n",
    "\n",
    "for i in range(num_air):\n",
    "    x = random.random()\n",
    "    y = random.random()\n",
    "    airports.append((x,y)) \n",
    "\n",
    "import matplotlib.pyplot as plt\n",
    "\n",
    "zip_cities = zip(*cities)\n",
    "plt.scatter(*zip_cities, marker='+',color='b', label='Cities')\n",
    "zip_airs = zip(*airports)\n",
    "plt.scatter(*zip_airs, marker='*', color='r', s=100, label='Airports')\n",
    "plt.legend()\n",
    "plt"
   ]
  },
  {
   "cell_type": "code",
   "execution_count": 206,
   "metadata": {},
   "outputs": [],
   "source": [
    "# Calculate the distance between two 2D points\n",
    "def dist(p1, p2):\n",
    "    # p1 and p2 are elements from an enumerate object [1][0] is an x value and [1][1] is a y value\n",
    "    dist = math.sqrt((p2[1][0] - p1[1][0]) ** 2 + (p2[1][1] - p1[1][1]) ** 2)  \n",
    "    return dist  "
   ]
  },
  {
   "cell_type": "code",
   "execution_count": 207,
   "metadata": {
    "scrolled": false
   },
   "outputs": [
    {
     "name": "stdout",
     "output_type": "stream",
     "text": [
      "(0, (0.30148129742287644, 0.7686890680099937))\n",
      "(1, (0.20117929669268686, 0.7131094928187304))\n",
      "(2, (0.6774162247025841, 0.08170063482568246))\n"
     ]
    }
   ],
   "source": [
    "# The (x,y) coordinates of all cities are stored in the 'cities' variable as a list of tuples\n",
    "\n",
    "closest_airports = {}\n",
    "# Iterate over the inner loop for as many \"airports\" are available for \"construction\"\n",
    "# i[0] returns the iteration index, i[1][0] returns the corresponding x and i[1][1] returns the corresponding y\n",
    "for i in enumerate(airports):\n",
    "    print(i)\n",
    "    # Iterate through all cities and follow the inner iterative function\n",
    "    # c[0] returns the iteration index, c[1][0] returns the corresponding x and c[1][1] returns the corresponding y\n",
    "    # Find the closest airport to each city and store the result in a dictionary relative to the index of the city\n",
    "    # i.e. c[0] = 6 then closest_airport = {6: (i, dist(c, i))}\n",
    "    for c in enumerate(cities):\n",
    "        distance = dist(c, i) # Save as variable to reduce calculations below\n",
    "        # If this is not the first airport being checked\n",
    "        if i[0] != 0:\n",
    "            # If this airport has a lesser distance to the previous closer airport, update the closest airport\n",
    "            if closest_airports[c[0]][1] > distance:\n",
    "#                 print(\"New airport closer\", closest_airports[c[0]][1], distance)\n",
    "                closest_airports[c[0]] = (i[0], distance)\n",
    "            \n",
    "        # If comparing distance between cities to first airport, set closest airport equal to first airport since there\n",
    "        # are no other known airports yet.\n",
    "        else:\n",
    "            closest_airports[c[0]] = (i[0], distance)\n",
    "            \n",
    "            \n",
    "#         print(c[1][0], c[1][1])\n",
    "        \n",
    "#     print('\\n\\n\\n\\n\\n')\n",
    "# print(closest_airports)\n",
    "# print(list(cities)[2])\n",
    "# print(cities)"
   ]
  },
  {
   "cell_type": "code",
   "execution_count": 208,
   "metadata": {},
   "outputs": [
    {
     "data": {
      "image/png": "[encoded data removed]",
      "text/plain": [
       "<Figure size 432x288 with 1 Axes>"
      ]
     },
     "metadata": {
      "needs_background": "light"
     },
     "output_type": "display_data"
    }
   ],
   "source": [
    "# Color code cities based on their closest airport\n",
    "airport_map = {0: [], 1: [], 2: []}\n",
    "for i in closest_airports:\n",
    "    airport_map[closest_airports[i][0]].append(i)\n",
    "    \n",
    "# Separate cities into lists based on their closest airport\n",
    "a0 = []\n",
    "a1 = []\n",
    "a2 = []\n",
    "for i in range(len(airport_map)):\n",
    "    for j in range(len(airport_map[i])):\n",
    "        if i == 0:\n",
    "            a0.append(list(cities)[airport_map[i][j]])\n",
    "        elif i == 1:\n",
    "            a1.append(list(cities)[airport_map[i][j]])\n",
    "        elif i == 2:\n",
    "            a2.append(list(cities)[airport_map[i][j]])\n",
    "            \n",
    "# Pull out x,y data and plot the data\n",
    "x0, y0 = zip(*a0)\n",
    "x1, y1 = zip(*a1)\n",
    "x2, y2 = zip(*a2)\n",
    "ax, ay = zip(*airports)\n",
    "plt.scatter(x0, y0, marker='+',color='g', label='Cities 0')\n",
    "plt.scatter(x1, y1, marker='+',color='b', label='Cities 1')\n",
    "plt.scatter(x2, y2, marker='+',color='r', label='Cities 2')\n",
    "plt.scatter(ax, ay, marker='*', color='y', s=100, label='Airports')\n",
    "plt.legend()\n",
    "plt.show()"
   ]
  },
  {
   "cell_type": "code",
   "execution_count": null,
   "metadata": {},
   "outputs": [],
   "source": []
  },
  {
   "cell_type": "code",
   "execution_count": null,
   "metadata": {},
   "outputs": [],
   "source": []
  }
 ],
 "metadata": {
  "kernelspec": {
   "display_name": "Python 3",
   "language": "python",
   "name": "python3"
  },
  "language_info": {
   "codemirror_mode": {
    "name": "ipython",
    "version": 3
   },
   "file_extension": ".py",
   "mimetype": "text/x-python",
   "name": "python",
   "nbconvert_exporter": "python",
   "pygments_lexer": "ipython3",
   "version": "3.8.2"
  }
 },
 "nbformat": 4,
 "nbformat_minor": 2
}
